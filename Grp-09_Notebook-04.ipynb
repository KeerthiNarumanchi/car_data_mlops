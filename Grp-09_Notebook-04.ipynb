{
 "cells": [
  {
   "cell_type": "code",
   "execution_count": 1,
   "id": "eb088a23-8303-4984-ac20-558db7a93f20",
   "metadata": {},
   "outputs": [
    {
     "name": "stdout",
     "output_type": "stream",
     "text": [
      "Requirement already satisfied: pandas in c:\\users\\keert\\anaconda3\\lib\\site-packages (2.0.3)\n",
      "Requirement already satisfied: numpy in c:\\users\\keert\\anaconda3\\lib\\site-packages (1.24.3)\n",
      "Requirement already satisfied: scikit-learn in c:\\users\\keert\\anaconda3\\lib\\site-packages (1.5.2)\n",
      "Requirement already satisfied: alibi-detect in c:\\users\\keert\\anaconda3\\lib\\site-packages (0.12.0)\n",
      "Requirement already satisfied: tabulate in c:\\users\\keert\\anaconda3\\lib\\site-packages (0.8.10)\n",
      "Requirement already satisfied: python-dateutil>=2.8.2 in c:\\users\\keert\\anaconda3\\lib\\site-packages (from pandas) (2.8.2)\n",
      "Requirement already satisfied: pytz>=2020.1 in c:\\users\\keert\\anaconda3\\lib\\site-packages (from pandas) (2023.3.post1)\n",
      "Requirement already satisfied: tzdata>=2022.1 in c:\\users\\keert\\anaconda3\\lib\\site-packages (from pandas) (2023.3)\n",
      "Requirement already satisfied: scipy>=1.6.0 in c:\\users\\keert\\anaconda3\\lib\\site-packages (from scikit-learn) (1.11.1)\n",
      "Requirement already satisfied: joblib>=1.2.0 in c:\\users\\keert\\anaconda3\\lib\\site-packages (from scikit-learn) (1.2.0)\n",
      "Requirement already satisfied: threadpoolctl>=3.1.0 in c:\\users\\keert\\anaconda3\\lib\\site-packages (from scikit-learn) (3.5.0)\n",
      "Requirement already satisfied: matplotlib<4.0.0,>=3.0.0 in c:\\users\\keert\\anaconda3\\lib\\site-packages (from alibi-detect) (3.7.2)\n",
      "Requirement already satisfied: Pillow<11.0.0,>=5.4.1 in c:\\users\\keert\\anaconda3\\lib\\site-packages (from alibi-detect) (10.3.0)\n",
      "Requirement already satisfied: opencv-python<5.0.0,>=3.2.0 in c:\\users\\keert\\anaconda3\\lib\\site-packages (from alibi-detect) (4.10.0.84)\n",
      "Requirement already satisfied: scikit-image<0.23,>=0.19 in c:\\users\\keert\\anaconda3\\lib\\site-packages (from alibi-detect) (0.22.0)\n",
      "Requirement already satisfied: transformers<5.0.0,>=4.0.0 in c:\\users\\keert\\anaconda3\\lib\\site-packages (from alibi-detect) (4.32.1)\n",
      "Requirement already satisfied: dill<0.4.0,>=0.3.0 in c:\\users\\keert\\anaconda3\\lib\\site-packages (from alibi-detect) (0.3.6)\n",
      "Requirement already satisfied: tqdm<5.0.0,>=4.28.1 in c:\\users\\keert\\anaconda3\\lib\\site-packages (from alibi-detect) (4.65.0)\n",
      "Requirement already satisfied: requests<3.0.0,>=2.21.0 in c:\\users\\keert\\anaconda3\\lib\\site-packages (from alibi-detect) (2.31.0)\n",
      "Requirement already satisfied: pydantic<3.0.0,>=1.8.0 in c:\\users\\keert\\anaconda3\\lib\\site-packages (from alibi-detect) (2.10.3)\n",
      "Requirement already satisfied: toml<1.0.0,>=0.10.1 in c:\\users\\keert\\anaconda3\\lib\\site-packages (from alibi-detect) (0.10.2)\n",
      "Requirement already satisfied: catalogue<3.0.0,>=2.0.0 in c:\\users\\keert\\anaconda3\\lib\\site-packages (from alibi-detect) (2.0.10)\n",
      "Requirement already satisfied: numba!=0.54.0,<0.60.0,>=0.50.0 in c:\\users\\keert\\anaconda3\\lib\\site-packages (from alibi-detect) (0.59.1)\n",
      "Requirement already satisfied: typing-extensions>=3.7.4.3 in c:\\users\\keert\\anaconda3\\lib\\site-packages (from alibi-detect) (4.12.2)\n",
      "Requirement already satisfied: contourpy>=1.0.1 in c:\\users\\keert\\anaconda3\\lib\\site-packages (from matplotlib<4.0.0,>=3.0.0->alibi-detect) (1.0.5)\n",
      "Requirement already satisfied: cycler>=0.10 in c:\\users\\keert\\anaconda3\\lib\\site-packages (from matplotlib<4.0.0,>=3.0.0->alibi-detect) (0.11.0)\n",
      "Requirement already satisfied: fonttools>=4.22.0 in c:\\users\\keert\\anaconda3\\lib\\site-packages (from matplotlib<4.0.0,>=3.0.0->alibi-detect) (4.25.0)\n",
      "Requirement already satisfied: kiwisolver>=1.0.1 in c:\\users\\keert\\anaconda3\\lib\\site-packages (from matplotlib<4.0.0,>=3.0.0->alibi-detect) (1.4.4)\n",
      "Requirement already satisfied: packaging>=20.0 in c:\\users\\keert\\anaconda3\\lib\\site-packages (from matplotlib<4.0.0,>=3.0.0->alibi-detect) (23.1)\n",
      "Requirement already satisfied: pyparsing<3.1,>=2.3.1 in c:\\users\\keert\\anaconda3\\lib\\site-packages (from matplotlib<4.0.0,>=3.0.0->alibi-detect) (3.0.9)\n",
      "Requirement already satisfied: llvmlite<0.43,>=0.42.0dev0 in c:\\users\\keert\\anaconda3\\lib\\site-packages (from numba!=0.54.0,<0.60.0,>=0.50.0->alibi-detect) (0.42.0)\n",
      "Requirement already satisfied: annotated-types>=0.6.0 in c:\\users\\keert\\anaconda3\\lib\\site-packages (from pydantic<3.0.0,>=1.8.0->alibi-detect) (0.7.0)\n",
      "Requirement already satisfied: pydantic-core==2.27.1 in c:\\users\\keert\\anaconda3\\lib\\site-packages (from pydantic<3.0.0,>=1.8.0->alibi-detect) (2.27.1)\n",
      "Requirement already satisfied: six>=1.5 in c:\\users\\keert\\anaconda3\\lib\\site-packages (from python-dateutil>=2.8.2->pandas) (1.16.0)\n",
      "Requirement already satisfied: charset-normalizer<4,>=2 in c:\\users\\keert\\anaconda3\\lib\\site-packages (from requests<3.0.0,>=2.21.0->alibi-detect) (2.0.4)\n",
      "Requirement already satisfied: idna<4,>=2.5 in c:\\users\\keert\\anaconda3\\lib\\site-packages (from requests<3.0.0,>=2.21.0->alibi-detect) (3.4)\n",
      "Requirement already satisfied: urllib3<3,>=1.21.1 in c:\\users\\keert\\anaconda3\\lib\\site-packages (from requests<3.0.0,>=2.21.0->alibi-detect) (1.26.16)\n",
      "Requirement already satisfied: certifi>=2017.4.17 in c:\\users\\keert\\anaconda3\\lib\\site-packages (from requests<3.0.0,>=2.21.0->alibi-detect) (2024.7.4)\n",
      "Requirement already satisfied: networkx>=2.8 in c:\\users\\keert\\anaconda3\\lib\\site-packages (from scikit-image<0.23,>=0.19->alibi-detect) (3.1)\n",
      "Requirement already satisfied: imageio>=2.27 in c:\\users\\keert\\anaconda3\\lib\\site-packages (from scikit-image<0.23,>=0.19->alibi-detect) (2.36.1)\n",
      "Requirement already satisfied: tifffile>=2022.8.12 in c:\\users\\keert\\anaconda3\\lib\\site-packages (from scikit-image<0.23,>=0.19->alibi-detect) (2023.4.12)\n",
      "Requirement already satisfied: lazy_loader>=0.3 in c:\\users\\keert\\anaconda3\\lib\\site-packages (from scikit-image<0.23,>=0.19->alibi-detect) (0.4)\n",
      "Requirement already satisfied: colorama in c:\\users\\keert\\anaconda3\\lib\\site-packages (from tqdm<5.0.0,>=4.28.1->alibi-detect) (0.4.6)\n",
      "Requirement already satisfied: filelock in c:\\users\\keert\\anaconda3\\lib\\site-packages (from transformers<5.0.0,>=4.0.0->alibi-detect) (3.9.0)\n",
      "Requirement already satisfied: huggingface-hub<1.0,>=0.15.1 in c:\\users\\keert\\anaconda3\\lib\\site-packages (from transformers<5.0.0,>=4.0.0->alibi-detect) (0.15.1)\n",
      "Requirement already satisfied: pyyaml>=5.1 in c:\\users\\keert\\anaconda3\\lib\\site-packages (from transformers<5.0.0,>=4.0.0->alibi-detect) (6.0)\n",
      "Requirement already satisfied: regex!=2019.12.17 in c:\\users\\keert\\anaconda3\\lib\\site-packages (from transformers<5.0.0,>=4.0.0->alibi-detect) (2022.7.9)\n",
      "Requirement already satisfied: tokenizers!=0.11.3,<0.14,>=0.11.1 in c:\\users\\keert\\anaconda3\\lib\\site-packages (from transformers<5.0.0,>=4.0.0->alibi-detect) (0.13.2)\n",
      "Requirement already satisfied: safetensors>=0.3.1 in c:\\users\\keert\\anaconda3\\lib\\site-packages (from transformers<5.0.0,>=4.0.0->alibi-detect) (0.3.2)\n",
      "Requirement already satisfied: fsspec in c:\\users\\keert\\anaconda3\\lib\\site-packages (from huggingface-hub<1.0,>=0.15.1->transformers<5.0.0,>=4.0.0->alibi-detect) (2023.4.0)\n"
     ]
    }
   ],
   "source": [
    "!pip install pandas numpy scikit-learn alibi-detect tabulate"
   ]
  },
  {
   "cell_type": "markdown",
   "id": "08d592b2-4013-47fc-b9c7-52b893a48ccf",
   "metadata": {},
   "source": [
    "## Loading Data"
   ]
  },
  {
   "cell_type": "code",
   "execution_count": 6,
   "id": "213c3ffe-81a4-4261-9d00-0365a94fec0c",
   "metadata": {},
   "outputs": [
    {
     "name": "stdout",
     "output_type": "stream",
     "text": [
      "Train Data:\n",
      "        Brand    Price       Body  Mileage  EngineV Engine Type Registration  \\\n",
      "0         BMW   4800.0      sedan       11      2.5      Diesel          yes   \n",
      "1      Toyota  11550.0      sedan       95      2.4      Petrol          yes   \n",
      "2         BMW  26999.0      sedan      131      2.0      Diesel          yes   \n",
      "3  Volkswagen  27000.0      sedan       85      2.0      Diesel          yes   \n",
      "4  Volkswagen   6900.0  crossover      258      2.5      Diesel           no   \n",
      "\n",
      "   Year      Model  \n",
      "0  1994        325  \n",
      "1  2007      Camry  \n",
      "2  2011        520  \n",
      "3  2013  Passat CC  \n",
      "4  2004    Touareg  \n",
      "\n",
      "Production Data:\n",
      "        Brand    Price   Body  Mileage  EngineV Engine Type Registration  \\\n",
      "0  Volkswagen   4100.0    van      345      1.9      Diesel           no   \n",
      "1  Volkswagen   9200.0    van      268      2.5      Diesel          yes   \n",
      "2  Volkswagen  30000.0  sedan       67      2.0      Diesel          yes   \n",
      "3        Audi   2550.0  sedan      370      2.5      Diesel           no   \n",
      "4  Volkswagen   7300.0  hatch      117      1.4      Petrol          yes   \n",
      "\n",
      "   Year             Model  \n",
      "0  2002            Sharan  \n",
      "1  2003  T4 (Transporter)  \n",
      "2  2013         Passat B7  \n",
      "3  1998                A6  \n",
      "4  2007              Polo  \n",
      "\n",
      "Shape of Train Data: (2133, 9)\n",
      "Shape of Production Data: (712, 9)\n"
     ]
    }
   ],
   "source": [
    "import pandas as pd\n",
    "\n",
    "# Load train data\n",
    "train_data_path = \"train_data.csv\"\n",
    "train_df = pd.read_csv(train_data_path)\n",
    "\n",
    "# Load production data\n",
    "prod_data_path = \"prod_data.csv\"\n",
    "prod_df = pd.read_csv(prod_data_path)\n",
    "\n",
    "# Display the first few rows of each dataset\n",
    "print(\"Train Data:\")\n",
    "print(train_df.head())\n",
    "\n",
    "print(\"\\nProduction Data:\")\n",
    "print(prod_df.head())\n",
    "\n",
    "# Check shapes of the datasets\n",
    "print(\"\\nShape of Train Data:\", train_df.shape)\n",
    "print(\"Shape of Production Data:\", prod_df.shape)\n"
   ]
  },
  {
   "cell_type": "markdown",
   "id": "afaac011-8216-43fc-9b98-3fcce1167ba1",
   "metadata": {},
   "source": [
    "## Checking for Data Consistency"
   ]
  },
  {
   "cell_type": "code",
   "execution_count": 9,
   "id": "b905e560-b0f4-4087-92e0-acfc220d3145",
   "metadata": {},
   "outputs": [
    {
     "name": "stdout",
     "output_type": "stream",
     "text": [
      "Column names in Train Data: Index(['Brand', 'Price', 'Body', 'Mileage', 'EngineV', 'Engine Type',\n",
      "       'Registration', 'Year', 'Model'],\n",
      "      dtype='object')\n",
      "Column names in Production Data: Index(['Brand', 'Price', 'Body', 'Mileage', 'EngineV', 'Engine Type',\n",
      "       'Registration', 'Year', 'Model'],\n",
      "      dtype='object')\n",
      "\n",
      "Data types in Train Data:\n",
      "Brand            object\n",
      "Price           float64\n",
      "Body             object\n",
      "Mileage           int64\n",
      "EngineV         float64\n",
      "Engine Type      object\n",
      "Registration     object\n",
      "Year              int64\n",
      "Model            object\n",
      "dtype: object\n",
      "\n",
      "Data types in Production Data:\n",
      "Brand            object\n",
      "Price           float64\n",
      "Body             object\n",
      "Mileage           int64\n",
      "EngineV         float64\n",
      "Engine Type      object\n",
      "Registration     object\n",
      "Year              int64\n",
      "Model            object\n",
      "dtype: object\n"
     ]
    }
   ],
   "source": [
    "# Compare column names\n",
    "print(\"Column names in Train Data:\", train_df.columns)\n",
    "print(\"Column names in Production Data:\", prod_df.columns)\n",
    "\n",
    "# Check data types\n",
    "print(\"\\nData types in Train Data:\")\n",
    "print(train_df.dtypes)\n",
    "\n",
    "print(\"\\nData types in Production Data:\")\n",
    "print(prod_df.dtypes)\n"
   ]
  },
  {
   "cell_type": "markdown",
   "id": "e3d72975-0aab-40d2-aa7a-5a4909887299",
   "metadata": {},
   "source": [
    "## Preparing the drift detector"
   ]
  },
  {
   "cell_type": "code",
   "execution_count": 28,
   "id": "00b15002-eaa9-4cf7-abfc-103dee91692a",
   "metadata": {},
   "outputs": [
    {
     "name": "stdout",
     "output_type": "stream",
     "text": [
      "{'data': {'is_drift': 0, 'distance': array([0., 0., 0., 0., 0., 0., 0., 0., 0.], dtype=float32), 'p_val': array([1., 1., 1., 1., 1., 1., 1., 1., 1.], dtype=float32), 'threshold': 0.005555555555555556}, 'meta': {'name': 'TabularDrift', 'online': False, 'data_type': None, 'version': '0.12.0', 'detector_type': 'drift'}}\n"
     ]
    },
    {
     "name": "stderr",
     "output_type": "stream",
     "text": [
      "C:\\Users\\keert\\anaconda3\\Lib\\site-packages\\alibi_detect\\cd\\tabular.py:113: UserWarning: No `categories_per_feature` dict provided so all features are assumed to be numerical. `KSDrift` will be applied to all features.\n",
      "  warnings.warn('No `categories_per_feature` dict provided so all features are assumed to be numerical. '\n"
     ]
    }
   ],
   "source": [
    "import numpy as np\n",
    "\n",
    "# Convert the pandas DataFrame to numpy arrays\n",
    "train_data_np = train_df.values\n",
    "\n",
    "# Set up the drift detector with the train_data\n",
    "drift_detector = TabularDrift(p_val=0.05, x_ref=train_data_np)  \n",
    "\n",
    "# Use the `predict` method to check for drift\n",
    "prediction = drift_detector.predict(train_data_np)\n",
    "\n",
    "# Print the drift test results\n",
    "print(prediction)\n",
    "\n"
   ]
  },
  {
   "cell_type": "code",
   "execution_count": 42,
   "id": "1d8c065f-22dd-4f24-b550-e6eb9bca12e3",
   "metadata": {},
   "outputs": [
    {
     "name": "stdout",
     "output_type": "stream",
     "text": [
      "Drift test results for production data: {'data': {'is_drift': 0, 'distance': array([0.05817886, 0.02293349, 0.04985922, 0.07148764, 0.07232652,\n",
      "       0.01866272, 0.01748474, 0.04163506, 0.04762178], dtype=float32), 'p_val': array([0.05172318, 0.93531954, 0.13590918, 0.00809497, 0.00711064,\n",
      "       0.99073005, 0.9959002 , 0.3043862 , 0.1717866 ], dtype=float32), 'threshold': 0.005555555555555556}, 'meta': {'name': 'TabularDrift', 'online': False, 'data_type': None, 'version': '0.12.0', 'detector_type': 'drift'}}\n",
      "        Feature   p-value Drift Detected\n",
      "0         Brand  0.051723             No\n",
      "1         Price  0.935320             No\n",
      "2          Body  0.135909             No\n",
      "3       Mileage  0.008095            Yes\n",
      "4       EngineV  0.007111            Yes\n",
      "5   Engine Type  0.990730             No\n",
      "6  Registration  0.995900             No\n",
      "7          Year  0.304386             No\n",
      "8         Model  0.171787             No\n"
     ]
    }
   ],
   "source": [
    "# Convert production data to numpy array\n",
    "production_data_np = prod_df.values\n",
    "\n",
    "# Use the `predict` method to check for drift between train_data and production_data\n",
    "prediction_prod = drift_detector.predict(production_data_np)\n",
    "\n",
    "# Print the results for production data\n",
    "print(\"Drift test results for production data:\", prediction_prod)\n",
    "\n",
    "# Access p-values from the 'data' field in the drift results\n",
    "p_values = prediction_prod['data']['p_val']\n",
    "\n",
    "# Create a DataFrame to display the drift test results\n",
    "drift_results_df = pd.DataFrame({\n",
    "    'Feature': prod_df.columns,\n",
    "    'p-value': p_values,\n",
    "    'Drift Detected': ['Yes' if p < 0.05 else 'No' for p in p_values]\n",
    "})\n",
    "\n",
    "# Display the results\n",
    "print(drift_results_df)\n",
    "\n"
   ]
  },
  {
   "cell_type": "code",
   "execution_count": null,
   "id": "5149ea06-3958-43be-8f71-5f2f2baa4408",
   "metadata": {},
   "outputs": [],
   "source": []
  }
 ],
 "metadata": {
  "kernelspec": {
   "display_name": "Python 3 (ipykernel)",
   "language": "python",
   "name": "python3"
  },
  "language_info": {
   "codemirror_mode": {
    "name": "ipython",
    "version": 3
   },
   "file_extension": ".py",
   "mimetype": "text/x-python",
   "name": "python",
   "nbconvert_exporter": "python",
   "pygments_lexer": "ipython3",
   "version": "3.11.5"
  }
 },
 "nbformat": 4,
 "nbformat_minor": 5
}
