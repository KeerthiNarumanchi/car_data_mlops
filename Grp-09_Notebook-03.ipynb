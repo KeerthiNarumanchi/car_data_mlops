{
 "cells": [
  {
   "cell_type": "markdown",
   "id": "5ab56930-fff4-4555-877f-21482ab15c6d",
   "metadata": {
    "jp-MarkdownHeadingCollapsed": true
   },
   "source": [
    "## Importing libraries"
   ]
  },
  {
   "cell_type": "code",
   "execution_count": 81,
   "id": "863a1e4f-d500-4c79-a328-876bc2f3e013",
   "metadata": {},
   "outputs": [
    {
     "name": "stdout",
     "output_type": "stream",
     "text": [
      "Requirement already satisfied: streamlit in c:\\users\\keerthi.narumanchi\\appdata\\local\\anaconda3\\lib\\site-packages (1.32.0)\n",
      "Requirement already satisfied: altair<6,>=4.0 in c:\\users\\keerthi.narumanchi\\appdata\\local\\anaconda3\\lib\\site-packages (from streamlit) (5.0.1)\n",
      "Requirement already satisfied: blinker<2,>=1.0.0 in c:\\users\\keerthi.narumanchi\\appdata\\local\\anaconda3\\lib\\site-packages (from streamlit) (1.6.2)\n",
      "Requirement already satisfied: cachetools<6,>=4.0 in c:\\users\\keerthi.narumanchi\\appdata\\local\\anaconda3\\lib\\site-packages (from streamlit) (5.3.3)\n",
      "Requirement already satisfied: click<9,>=7.0 in c:\\users\\keerthi.narumanchi\\appdata\\local\\anaconda3\\lib\\site-packages (from streamlit) (8.1.7)\n",
      "Requirement already satisfied: numpy<2,>=1.19.3 in c:\\users\\keerthi.narumanchi\\appdata\\local\\anaconda3\\lib\\site-packages (from streamlit) (1.26.4)\n",
      "Requirement already satisfied: packaging<24,>=16.8 in c:\\users\\keerthi.narumanchi\\appdata\\local\\anaconda3\\lib\\site-packages (from streamlit) (23.2)\n",
      "Requirement already satisfied: pandas<3,>=1.3.0 in c:\\users\\keerthi.narumanchi\\appdata\\local\\anaconda3\\lib\\site-packages (from streamlit) (2.2.2)\n",
      "Requirement already satisfied: pillow<11,>=7.1.0 in c:\\users\\keerthi.narumanchi\\appdata\\local\\anaconda3\\lib\\site-packages (from streamlit) (10.3.0)\n",
      "Requirement already satisfied: protobuf<5,>=3.20 in c:\\users\\keerthi.narumanchi\\appdata\\local\\anaconda3\\lib\\site-packages (from streamlit) (3.20.3)\n",
      "Requirement already satisfied: pyarrow>=7.0 in c:\\users\\keerthi.narumanchi\\appdata\\local\\anaconda3\\lib\\site-packages (from streamlit) (14.0.2)\n",
      "Requirement already satisfied: requests<3,>=2.27 in c:\\users\\keerthi.narumanchi\\appdata\\local\\anaconda3\\lib\\site-packages (from streamlit) (2.32.3)\n",
      "Requirement already satisfied: rich<14,>=10.14.0 in c:\\users\\keerthi.narumanchi\\appdata\\local\\anaconda3\\lib\\site-packages (from streamlit) (13.3.5)\n",
      "Requirement already satisfied: tenacity<9,>=8.1.0 in c:\\users\\keerthi.narumanchi\\appdata\\local\\anaconda3\\lib\\site-packages (from streamlit) (8.2.2)\n",
      "Requirement already satisfied: toml<2,>=0.10.1 in c:\\users\\keerthi.narumanchi\\appdata\\local\\anaconda3\\lib\\site-packages (from streamlit) (0.10.2)\n",
      "Requirement already satisfied: typing-extensions<5,>=4.3.0 in c:\\users\\keerthi.narumanchi\\appdata\\local\\anaconda3\\lib\\site-packages (from streamlit) (4.11.0)\n",
      "Requirement already satisfied: gitpython!=3.1.19,<4,>=3.0.7 in c:\\users\\keerthi.narumanchi\\appdata\\local\\anaconda3\\lib\\site-packages (from streamlit) (3.1.37)\n",
      "Requirement already satisfied: pydeck<1,>=0.8.0b4 in c:\\users\\keerthi.narumanchi\\appdata\\local\\anaconda3\\lib\\site-packages (from streamlit) (0.8.0)\n",
      "Requirement already satisfied: tornado<7,>=6.0.3 in c:\\users\\keerthi.narumanchi\\appdata\\local\\anaconda3\\lib\\site-packages (from streamlit) (6.4.1)\n",
      "Requirement already satisfied: watchdog>=2.1.5 in c:\\users\\keerthi.narumanchi\\appdata\\local\\anaconda3\\lib\\site-packages (from streamlit) (4.0.1)\n",
      "Requirement already satisfied: jinja2 in c:\\users\\keerthi.narumanchi\\appdata\\local\\anaconda3\\lib\\site-packages (from altair<6,>=4.0->streamlit) (3.1.4)\n",
      "Requirement already satisfied: jsonschema>=3.0 in c:\\users\\keerthi.narumanchi\\appdata\\local\\anaconda3\\lib\\site-packages (from altair<6,>=4.0->streamlit) (4.19.2)\n",
      "Requirement already satisfied: toolz in c:\\users\\keerthi.narumanchi\\appdata\\local\\anaconda3\\lib\\site-packages (from altair<6,>=4.0->streamlit) (0.12.0)\n",
      "Requirement already satisfied: colorama in c:\\users\\keerthi.narumanchi\\appdata\\local\\anaconda3\\lib\\site-packages (from click<9,>=7.0->streamlit) (0.4.6)\n",
      "Requirement already satisfied: gitdb<5,>=4.0.1 in c:\\users\\keerthi.narumanchi\\appdata\\local\\anaconda3\\lib\\site-packages (from gitpython!=3.1.19,<4,>=3.0.7->streamlit) (4.0.7)\n",
      "Requirement already satisfied: python-dateutil>=2.8.2 in c:\\users\\keerthi.narumanchi\\appdata\\local\\anaconda3\\lib\\site-packages (from pandas<3,>=1.3.0->streamlit) (2.9.0.post0)\n",
      "Requirement already satisfied: pytz>=2020.1 in c:\\users\\keerthi.narumanchi\\appdata\\local\\anaconda3\\lib\\site-packages (from pandas<3,>=1.3.0->streamlit) (2024.1)\n",
      "Requirement already satisfied: tzdata>=2022.7 in c:\\users\\keerthi.narumanchi\\appdata\\local\\anaconda3\\lib\\site-packages (from pandas<3,>=1.3.0->streamlit) (2023.3)\n",
      "Requirement already satisfied: charset-normalizer<4,>=2 in c:\\users\\keerthi.narumanchi\\appdata\\local\\anaconda3\\lib\\site-packages (from requests<3,>=2.27->streamlit) (2.0.4)\n",
      "Requirement already satisfied: idna<4,>=2.5 in c:\\users\\keerthi.narumanchi\\appdata\\local\\anaconda3\\lib\\site-packages (from requests<3,>=2.27->streamlit) (3.7)\n",
      "Requirement already satisfied: urllib3<3,>=1.21.1 in c:\\users\\keerthi.narumanchi\\appdata\\local\\anaconda3\\lib\\site-packages (from requests<3,>=2.27->streamlit) (2.2.3)\n",
      "Requirement already satisfied: certifi>=2017.4.17 in c:\\users\\keerthi.narumanchi\\appdata\\local\\anaconda3\\lib\\site-packages (from requests<3,>=2.27->streamlit) (2024.7.4)\n",
      "Requirement already satisfied: markdown-it-py<3.0.0,>=2.2.0 in c:\\users\\keerthi.narumanchi\\appdata\\local\\anaconda3\\lib\\site-packages (from rich<14,>=10.14.0->streamlit) (2.2.0)\n",
      "Requirement already satisfied: pygments<3.0.0,>=2.13.0 in c:\\users\\keerthi.narumanchi\\appdata\\local\\anaconda3\\lib\\site-packages (from rich<14,>=10.14.0->streamlit) (2.15.1)\n",
      "Requirement already satisfied: smmap<5,>=3.0.1 in c:\\users\\keerthi.narumanchi\\appdata\\local\\anaconda3\\lib\\site-packages (from gitdb<5,>=4.0.1->gitpython!=3.1.19,<4,>=3.0.7->streamlit) (4.0.0)\n",
      "Requirement already satisfied: MarkupSafe>=2.0 in c:\\users\\keerthi.narumanchi\\appdata\\local\\anaconda3\\lib\\site-packages (from jinja2->altair<6,>=4.0->streamlit) (2.1.3)\n",
      "Requirement already satisfied: attrs>=22.2.0 in c:\\users\\keerthi.narumanchi\\appdata\\local\\anaconda3\\lib\\site-packages (from jsonschema>=3.0->altair<6,>=4.0->streamlit) (24.2.0)\n",
      "Requirement already satisfied: jsonschema-specifications>=2023.03.6 in c:\\users\\keerthi.narumanchi\\appdata\\local\\anaconda3\\lib\\site-packages (from jsonschema>=3.0->altair<6,>=4.0->streamlit) (2023.7.1)\n",
      "Requirement already satisfied: referencing>=0.28.4 in c:\\users\\keerthi.narumanchi\\appdata\\local\\anaconda3\\lib\\site-packages (from jsonschema>=3.0->altair<6,>=4.0->streamlit) (0.30.2)\n",
      "Requirement already satisfied: rpds-py>=0.7.1 in c:\\users\\keerthi.narumanchi\\appdata\\local\\anaconda3\\lib\\site-packages (from jsonschema>=3.0->altair<6,>=4.0->streamlit) (0.10.6)\n",
      "Requirement already satisfied: mdurl~=0.1 in c:\\users\\keerthi.narumanchi\\appdata\\local\\anaconda3\\lib\\site-packages (from markdown-it-py<3.0.0,>=2.2.0->rich<14,>=10.14.0->streamlit) (0.1.0)\n",
      "Requirement already satisfied: six>=1.5 in c:\\users\\keerthi.narumanchi\\appdata\\local\\anaconda3\\lib\\site-packages (from python-dateutil>=2.8.2->pandas<3,>=1.3.0->streamlit) (1.16.0)\n"
     ]
    },
    {
     "name": "stderr",
     "output_type": "stream",
     "text": [
      "WARNING: Ignoring invalid distribution ~ympy (C:\\Users\\keerthi.narumanchi\\AppData\\Local\\anaconda3\\Lib\\site-packages)\n",
      "WARNING: Ignoring invalid distribution ~ympy (C:\\Users\\keerthi.narumanchi\\AppData\\Local\\anaconda3\\Lib\\site-packages)\n",
      "WARNING: Ignoring invalid distribution ~ympy (C:\\Users\\keerthi.narumanchi\\AppData\\Local\\anaconda3\\Lib\\site-packages)\n"
     ]
    }
   ],
   "source": [
    "!pip install streamlit\n"
   ]
  },
  {
   "cell_type": "markdown",
   "id": "cfb67a27-684b-4348-8390-d8ecf3e6d75a",
   "metadata": {
    "jp-MarkdownHeadingCollapsed": true
   },
   "source": [
    "## Streamlit UI Design"
   ]
  },
  {
   "cell_type": "code",
   "execution_count": 117,
   "id": "77d18eba-6c3e-4f85-b56a-01fa275a14f6",
   "metadata": {},
   "outputs": [
    {
     "name": "stdout",
     "output_type": "stream",
     "text": [
      "Overwriting streamlit_ui.py\n"
     ]
    }
   ],
   "source": [
    "%%writefile streamlit_ui.py\n",
    "import requests\n",
    "\n",
    "import streamlit as st\n",
    "\n",
    "# Page title and description\n",
    "st.title(\"Car Price Prediction\")\n",
    "st.markdown(\"<h4 style='text-align: center;'>Fill in the details to predict the car price</h4>\", unsafe_allow_html=True)\n",
    "\n",
    "# List of available options for year selection.\n",
    "year_options = [\n",
    "    1969, 1978, 1979, 1980, 1982, 1983, 1984, 1985, 1986, 1987, 1988, 1989, \n",
    "    1990, 1991, 1992, 1993, 1994, 1995, 1996, 1997, 1998, 1999, 2000, 2001, \n",
    "    2002, 2003, 2004, 2005, 2006, 2007, 2008, 2009, 2010, 2011, 2012, 2013, \n",
    "    2014, 2015, 2016\n",
    "]\n",
    "\n",
    "# Create input fields with dropdowns, number inputs, and text input\n",
    "brand = st.selectbox(\"Select the Brand\", [\"BMW\", \"Mercedes-Benz\", \"Audi\", \"Toyota\", \"Renault\", \"Volkswagen\", \"Mitsubishi\"])\n",
    "body = st.selectbox(\"Select the Body type\", [\"sedan\", \"van\", \"crossover\", \"wagon\", \"other\", \"hatch\"])\n",
    "mileage = st.number_input(\"Enter Mileage (in km)\", min_value=0.0, step=0.1)\n",
    "engine_v = st.number_input(\"Enter Engine Volume (in liters)\", min_value=0.0, step=0.1)\n",
    "engine_type = st.selectbox(\"Select Engine Type\", [\"Petrol\", \"Diesel\", \"Gas\", \"Other\"])\n",
    "year = st.selectbox(\"Select the Year\", year_options)\n",
    "model = st.text_input(\"Enter the Model\")\n",
    "# Registration options as radio buttons\n",
    "registration = st.radio(\"Is the car registered?\", [\"yes\", \"no\"])\n",
    "# Submit button\n",
    "if st.button(\"Predict\"):\n",
    "    data = {\n",
    "        \"Brand\": brand,\n",
    "        \"Body\": body,\n",
    "        \"Mileage\": mileage,\n",
    "        \"EngineV\": engine_v,\n",
    "        \"Engine_Type\": engine_type,\n",
    "        \"Registration\": registration,\n",
    "        \"Year\": year,\n",
    "        \"Model\": model\n",
    "    }\n",
    "\n",
    "    # Send a POST request to the FastAPI backend for prediction\n",
    "    response = requests.post(\"http://127.0.0.1:8003/predict\", json=data)\n",
    "\n",
    "    # Display prediction result\n",
    "    if response.status_code == 200:\n",
    "        prediction = response.json()\n",
    "        st.markdown(f\"<h4 style='text-align: center; color: #2d6a4f;'>Predicted Price: **${prediction['prediction']:,.2f}**</h4>\", unsafe_allow_html=True)\n",
    "    else:\n",
    "        st.error(\"Error: Unable to get prediction, please try again later.\")\n",
    "# Add some custom style to make the page more appealing\n",
    "st.markdown(\"\"\"\n",
    "    <style>\n",
    "    body {\n",
    "        background-color: #f4f4f9;\n",
    "        font-family: 'Arial', sans-serif;\n",
    "    }\n",
    "    .stButton>button {\n",
    "        background-color: #007bff;\n",
    "        color: white;\n",
    "        border: none;\n",
    "        border-radius: 5px;\n",
    "        padding: 10px 20px;\n",
    "        font-size: 16px;\n",
    "    }\n",
    "    .stButton>button:hover {\n",
    "        background-color: #0056b3;\n",
    "    }\n",
    "    .stSelectbox>div>div>div {\n",
    "        background-color: #ffffff;\n",
    "        border-radius: 8px;\n",
    "        border: 1px solid #e1e1e1;\n",
    "    }\n",
    "    .stTextInput>div>div>input {\n",
    "        background-color: #ffffff;\n",
    "        border-radius: 8px;\n",
    "        border: 1px solid #e1e1e1;\n",
    "    }\n",
    "    .stRadio>div>div {\n",
    "        border-radius: 8px;\n",
    "        background-color: #ffffff;\n",
    "    }\n",
    "    .stText {\n",
    "        color: #333333;\n",
    "    }\n",
    "    .css-18e3pys {\n",
    "        background-color: #ffffff;\n",
    "        padding: 20px;\n",
    "        border-radius: 8px;\n",
    "        box-shadow: 0px 4px 10px rgba(0, 0, 0, 0.1);\n",
    "        margin-top: 20px;\n",
    "    }\n",
    "    </style>\n",
    "    \"\"\", unsafe_allow_html=True)\n"
   ]
  },
  {
   "cell_type": "markdown",
   "id": "09ac802a-5a26-4835-9de0-64a3969765df",
   "metadata": {
    "jp-MarkdownHeadingCollapsed": true
   },
   "source": [
    "## Subprocess to run Streamlit and FastAPI"
   ]
  },
  {
   "cell_type": "code",
   "execution_count": 120,
   "id": "dad0da79-f4ed-44ca-bca5-56089d716cfe",
   "metadata": {},
   "outputs": [
    {
     "data": {
      "text/plain": [
       "<Popen: returncode: None args: ['streamlit', 'run', 'streamlit_ui.py']>"
      ]
     },
     "execution_count": 120,
     "metadata": {},
     "output_type": "execute_result"
    }
   ],
   "source": [
    "import subprocess\n",
    "\n",
    "# Run the Streamlit app in the background\n",
    "subprocess.Popen([\"streamlit\", \"run\", \"streamlit_ui.py\"])\n"
   ]
  },
  {
   "cell_type": "code",
   "execution_count": 122,
   "id": "dc5858b9-97f6-4acb-91d3-9a7de47d74ad",
   "metadata": {},
   "outputs": [
    {
     "data": {
      "text/plain": [
       "<Popen: returncode: None args: ['uvicorn', 'Grp-09_Notebook-02:Grp-09_Notebo...>"
      ]
     },
     "execution_count": 122,
     "metadata": {},
     "output_type": "execute_result"
    }
   ],
   "source": [
    "import subprocess\n",
    "\n",
    "# Run the FastAPI server in the background\n",
    "subprocess.Popen([\"uvicorn\", \"Grp-09_Notebook-02:Grp-09_Notebook-03\", \"--reload\"])\n"
   ]
  }
 ],
 "metadata": {
  "kernelspec": {
   "display_name": "Python 3 (ipykernel)",
   "language": "python",
   "name": "python3"
  },
  "language_info": {
   "codemirror_mode": {
    "name": "ipython",
    "version": 3
   },
   "file_extension": ".py",
   "mimetype": "text/x-python",
   "name": "python",
   "nbconvert_exporter": "python",
   "pygments_lexer": "ipython3",
   "version": "3.12.4"
  }
 },
 "nbformat": 4,
 "nbformat_minor": 5
}
