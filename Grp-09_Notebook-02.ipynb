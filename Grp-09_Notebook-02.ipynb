{
 "cells": [
  {
   "cell_type": "markdown",
   "id": "59bf42b1-7e7a-4df5-9306-327d7fc88c83",
   "metadata": {},
   "source": [
    "## Installing and Importing necessary libraries"
   ]
  },
  {
   "cell_type": "code",
   "execution_count": null,
   "id": "b63e966f-a23c-4073-ba0a-2d662a4b28a9",
   "metadata": {},
   "outputs": [],
   "source": [
    "!pip install fastapi uvicorn nest_asyncio ipywidgets requests"
   ]
  },
  {
   "cell_type": "code",
   "execution_count": null,
   "id": "d7fc5b78-ee45-40de-94cf-ad5b8d0e199f",
   "metadata": {},
   "outputs": [],
   "source": [
    "# Installing libraries needed\n",
    "!pip install fastapi uvicorn joblib pandas nest_asyncio"
   ]
  },
  {
   "cell_type": "code",
   "execution_count": null,
   "id": "7bbb6ef3-e263-4aff-b13d-da732c6c2af9",
   "metadata": {},
   "outputs": [],
   "source": [
    "# Import necessary libraries\n",
    "import joblib\n",
    "from fastapi import FastAPI\n",
    "from pydantic import BaseModel\n",
    "import pandas as pd\n",
    "import logging\n",
    "import nest_asyncio\n",
    "from uvicorn import run"
   ]
  },
  {
   "cell_type": "code",
   "execution_count": null,
   "id": "23f58613-ee58-45b2-8f42-4d68decc0fb7",
   "metadata": {},
   "outputs": [],
   "source": [
    "# Enable nesting of asyncio event loops for Jupyter compatibility\n",
    "nest_asyncio.apply()\n",
    "\n",
    "# Set up logging to output to both console and file\n",
    "logger = logging.getLogger(__name__)\n",
    "logger.setLevel(logging.DEBUG) \n"
   ]
  },
  {
   "cell_type": "markdown",
   "id": "901d103b-52fb-40e0-82f7-4a838d42dea0",
   "metadata": {
    "jp-MarkdownHeadingCollapsed": true
   },
   "source": [
    "## Initializing FastAPI app"
   ]
  },
  {
   "cell_type": "code",
   "execution_count": null,
   "id": "f3a0267e-1e58-43b3-89f0-e5e7ec04c29e",
   "metadata": {},
   "outputs": [],
   "source": [
    "# Creation of handlers\n",
    "console_handler = logging.StreamHandler()  # To log to the console\n",
    "file_handler = logging.FileHandler('app_logs.log')  # To log to a file\n",
    "\n",
    "# Set logging levels for handlers\n",
    "console_handler.setLevel(logging.DEBUG)  # Adjust based on your needs (e.g., DEBUG, INFO)\n",
    "file_handler.setLevel(logging.DEBUG)\n"
   ]
  },
  {
   "cell_type": "code",
   "execution_count": null,
   "id": "1eb08166-e8ae-4146-9058-1436ce5b86c0",
   "metadata": {},
   "outputs": [],
   "source": [
    "# Creation of a formatter and attach it to handlers\n",
    "formatter = logging.Formatter('%(asctime)s - %(name)s - %(levelname)s - %(message)s')\n",
    "console_handler.setFormatter(formatter)\n",
    "file_handler.setFormatter(formatter)\n",
    "\n",
    "# Add handlers to the logger\n",
    "logger.addHandler(console_handler)\n",
    "logger.addHandler(file_handler)"
   ]
  },
  {
   "cell_type": "code",
   "execution_count": null,
   "id": "3a235c99-ad66-41aa-8ac4-e527a46c3c21",
   "metadata": {},
   "outputs": [],
   "source": [
    "# Initialize the FastAPI app\n",
    "app = FastAPI()"
   ]
  },
  {
   "cell_type": "markdown",
   "id": "883a1f3b-e3c8-43e2-80aa-67b66957a5c8",
   "metadata": {
    "jp-MarkdownHeadingCollapsed": true
   },
   "source": [
    "## Loading of the ML Flow model"
   ]
  },
  {
   "cell_type": "code",
   "execution_count": null,
   "id": "d4626f70-4ba6-494c-b805-2da77e3663bb",
   "metadata": {},
   "outputs": [],
   "source": [
    "# Load the XGBoost model and preprocessing pipeline\n",
    "try:\n",
    "    model_pipeline = joblib.load('random_forest_model_pipeline.pkl')\n",
    "    logger.info(\"Model loaded successfully!\")\n",
    "    # Validate pipeline components\n",
    "    assert 'preprocessor' in model_pipeline.named_steps, \"Missing preprocessor in pipeline.\"\n",
    "    assert 'model' in model_pipeline.named_steps, \"Missing model in pipeline.\"\n",
    "except Exception as e:\n",
    "    logger.error(f\"Failed to load model: {e}\", exc_info=True)\n",
    "    raise RuntimeError(\"Failed to load model pipeline. Ensure the .pkl file is valid and correctly configured.\")\n"
   ]
  },
  {
   "cell_type": "markdown",
   "id": "5d620ec0-edbe-4f88-b1e7-4693a8cd050c",
   "metadata": {
    "jp-MarkdownHeadingCollapsed": true
   },
   "source": [
    "## Defining Data structure and defining the predict"
   ]
  },
  {
   "cell_type": "code",
   "execution_count": null,
   "id": "b2930020-cb86-403c-8e8e-6d6bea3872f2",
   "metadata": {},
   "outputs": [],
   "source": [
    "# Define input data structure\n",
    "class CarData(BaseModel):\n",
    "    Mileage: float\n",
    "    EngineV: float\n",
    "    Year: int\n",
    "    Brand: str\n",
    "    Body: str\n",
    "    Engine_Type: str\n",
    "    Registration: str\n",
    "    Model: str\n",
    "\n",
    "@app.post(\"/predict\")\n",
    "def predict(car_data: CarData):\n",
    "    try:\n",
    "        # Log raw input data\n",
    "        logger.debug(f\"Raw input data: {car_data.dict()}\")\n",
    "\n",
    "        # Convert input to DataFrame\n",
    "        input_data = [[\n",
    "            car_data.Mileage,\n",
    "            car_data.EngineV,\n",
    "            car_data.Year,\n",
    "            car_data.Brand,\n",
    "            car_data.Body,\n",
    "            car_data.Engine_Type,\n",
    "            car_data.Registration,\n",
    "            car_data.Model\n",
    "        ]]\n",
    "        columns = ['Mileage', 'EngineV', 'Year', 'Brand', 'Body', 'Engine Type', 'Registration', 'Model']\n",
    "\n",
    "        input_df = pd.DataFrame(input_data, columns=columns)\n",
    "        logger.debug(f\"Input DataFrame:\\n{input_df}\")\n",
    "\n",
    "        # Preprocess input\n",
    "        preprocessed_input = model_pipeline.named_steps['preprocessor'].transform(input_df)\n",
    "        logger.debug(f\"Preprocessed input:\\n{preprocessed_input}\")\n",
    "\n",
    "        # Convert sparse matrix to dense\n",
    "        preprocessed_input = preprocessed_input.toarray()\n",
    "        logger.debug(f\"Preprocessed dense input:\\n{preprocessed_input}\")\n",
    "\n",
    "        # Make prediction\n",
    "        predicted_price = model_pipeline.named_steps['model'].predict(preprocessed_input)[0]\n",
    "        logger.info(f\"Prediction: {predicted_price}\")\n",
    "\n",
    "        # Convert the numpy float to a standard Python float for serialization\n",
    "        predicted_price = float(predicted_price)\n",
    "\n",
    "        return {\"prediction\": predicted_price}\n",
    "\n",
    "    except ValueError as ve:\n",
    "        logger.error(f\"ValueError during prediction: {ve}\", exc_info=True)\n",
    "        return {\"error\": f\"Preprocessing or prediction failed. Error: {ve}\"}\n",
    "\n",
    "    except KeyError as ke:\n",
    "        logger.error(f\"KeyError: Missing expected column or key in input: {ke}\", exc_info=True)\n",
    "        return {\"error\": f\"Input format error. Missing field: {ke}\"}\n",
    "\n",
    "    except Exception as e:\n",
    "        logger.error(f\"Unhandled error during prediction: {e}\", exc_info=True)\n",
    "        return {\"error\": f\"Internal Server Error. Details: {e}\"}\n"
   ]
  },
  {
   "cell_type": "markdown",
   "id": "9c8e86f2-814f-4bbf-98e1-b63648a78154",
   "metadata": {},
   "source": [
    "## Running FastAPI"
   ]
  },
  {
   "cell_type": "code",
   "execution_count": null,
   "id": "38ccd69a-c842-4b5a-b3bb-109812514c7d",
   "metadata": {},
   "outputs": [],
   "source": [
    "# Run the FastAPI app\n",
    "run(app, host=\"127.0.0.1\", port=8003)\n"
   ]
  }
 ],
 "metadata": {
  "kernelspec": {
   "display_name": "Python 3 (ipykernel)",
   "language": "python",
   "name": "python3"
  },
  "language_info": {
   "codemirror_mode": {
    "name": "ipython",
    "version": 3
   },
   "file_extension": ".py",
   "mimetype": "text/x-python",
   "name": "python",
   "nbconvert_exporter": "python",
   "pygments_lexer": "ipython3",
   "version": "3.12.4"
  }
 },
 "nbformat": 4,
 "nbformat_minor": 5
}
